{
 "cells": [
  {
   "cell_type": "markdown",
   "metadata": {},
   "source": [
    "# Laboratorio Spice"
   ]
  },
  {
   "cell_type": "markdown",
   "metadata": {},
   "source": [
    "**El objetivo de la presenta práctica es conocer el estándar de simulación de circuitos SPICE y realizar pequeñas simulaciones en corriente continua con el mismo. SPICE es una forma elegante y sencilla de codificar circuitos eléctricos de manera que puedan ser procesados por un ordenador. Mediante un sencillo lenguaje podemos definir resistencias, fuentes de alimentación, etc., las conexiones entre ellos y los resultados que deseamos obtener.**"
   ]
  },
  {
   "cell_type": "markdown",
   "metadata": {},
   "source": [
    " ## El estándar SPICE"
   ]
  },
  {
   "cell_type": "markdown",
   "metadata": {},
   "source": [
    "SPICE es una abreviabiación de Simulation Program with Integrated Circtuit Emphasis. Se trata básicamente de un método estándar para describir circuitos usando texto plano en lugar de una representación gráfica (o esquemática). A esta descripción en texto se la llama también netlist y básicamente se corresponde con la lista de los componentes del circuito y cómo estos están conectados entre sí, es decir, de los nodos de unión. Los ficheros netlist pueden tener extensiones .cir, .net, .ckt, ó .sp y es muy común encontrárselos con cualquiera de estas.\n",
    "\n",
    "Existen en el mercado muchas variantes (intérpretes) de Spice, aunque el original fue descrito en la Universidad de Berkeley. En la lista de intérpretes de Spice tenemos desde esfuerzos y proyectos comerciales hasta open source y regidos por distintas comunidades de usuarios y programadores."
   ]
  },
  {
   "cell_type": "markdown",
   "metadata": {},
   "source": [
    "**Enumera todos los intérprete de Spice que puedas encontrar. Crea una tabla en Markdown con varias columnas (para el nombre, fabricante, versión actual, licencia y alguna característica sobresaliente). Aquí tienes un ejemplo del que puedes partir y seguir completando:**\n",
    "\n",
    "| Intérprete |    Licencia    |     Fabricante       | Características  |\n",
    "| ---------- | -------------- | -------------------- | ---------------- |\n",
    "| Ahkab      | GPL            | Giuseppe Venturini   | Basado en Python |\n",
    "| PSpice     | Propietario    |Cadence Design Systems| Basado en C/C++  |\n",
    "| Ngspice    | New BSD license|Comunidad de usuarios | Basado en C      |\n",
    "| macspice   | Free           |Charles D. H. Williams| Basado en C      |\n",
    "| LTspice    | Freeware       |Mike Engelhardt       | Basado en C      |"
   ]
  },
  {
   "cell_type": "markdown",
   "metadata": {},
   "source": [
    "**¿Qué comparación puedes efectuar entre C y Spice como estándares (lenguajes) y sus respectivas implementaciones en software?**\n",
    "\n",
    "En mi opinión,la principal diferencia entre estos dos lenguajes de alto nivel es que C es un lenguaje con el que utilizamos compiladores con la finalidad de traducir sus líneas escritas en alto nivel a un ejecutable que puede ejecutar el procesador y Spice es un lenguaje interpretado, precisa de intérpretes software para poder trabajar con este lenguaje.\"\n",
    "\n",
    "**¿Qué implementaciones reales (compiladores) del lenguaje C conoces?**\n",
    "\n",
    "En sistemas linux conozco el compilador GCC ,para entorno windows conozco Dev C++.\"\n"
   ]
  },
  {
   "cell_type": "markdown",
   "metadata": {},
   "source": [
    "**Elementos de un netlist**"
   ]
  },
  {
   "cell_type": "markdown",
   "metadata": {},
   "source": [
    "Como acabamos de comentar, un netlist se corresponde con la codificación de los elementos electrónicos de un circuito y las uniones entre los mismos. Veamos con más concreción qué partes y secciones lo componen.\n",
    "\n",
    "Comentarios\n",
    "La primera línea de un netlist se corresponderá siempre con un comentario. A partir de esta línea se pueden introducir más comentarios pero tienen que ir siempre precedidos de un *. Ejemplo:\n",
    "\n",
    "Mi primer circuito\n",
    "* Otro comentario\n",
    "* más comentarios\n",
    "*"
   ]
  },
  {
   "cell_type": "markdown",
   "metadata": {},
   "source": [
    "**Dispositivos básicos de un circuito**\n",
    "\n",
    "\n",
    "Los elementos de un netlist son los mismos que encontramos en cualquier circuito eléctrico sencillo, tales como resistencias, condensadores, bobinas, interruptores, hilos y fuentes de alimentación. Para distinguir uno de otro, se reserva una letra característica: V para fuentes de alimentación, R para resistencias, C para condensadores y L para bobinas. También es posible usar estas letras en su versión en minúscula (r, v, c, l, etc.). Después de esta letra característica se puede sufijar cualquier texto para diferenciar un elemento de otro (números, letras, palabras, etc.). Ejemplo:\n",
    "\n",
    "* Una resistencia\n",
    "R1\n",
    "*  Otra resistencia\n",
    "R2\n",
    "* Fuente de alimentación\n",
    "V\n",
    "* Un condensador\n",
    "Cprincipal"
   ]
  },
  {
   "cell_type": "markdown",
   "metadata": {},
   "source": [
    "**Conexiones**\n",
    "\n",
    "A continuación de indicar el elemento eléctrico, tenemos que informar a Spice cuáles son los puntos de unión tanto a un lado como al otro del elemento. Así es como Spice sabe qué está conectado a qué: porque comparten un punto (o nodo, aunque este término se reserva sobretodo a uniones de más de dos elementos) que hemos señalizado correctamente. Para nombrar nodos, lo mejor es emplear una numeración secuencial: 0...n. La enumeración de los puntos de unión es completamente a nuestro criterio.\n",
    "\n",
    "* Una resistencia\n",
    "* entre cables 0 y 1\n",
    "R1 0 1\n",
    "Sólo es necesario seguir un criterio: en el caso de una fuente de alimentación, el nodo que pondremos primero será aquel que está más cerca del borne positivo. Ejemplo:\n",
    "\n",
    "* Para una fuente indicamos primeramente conexión a nodo positivo.\n",
    "v 2 3 type=vdc vdc=1\n",
    "En el caso de LTspice no es necesario indicar los parámetros type=vdc y vdc=X, sino que si no se especifica nada, se supone que el último valor es el del voltaje a corriente continua:\n",
    "\n",
    "* Especificación de una fuente de alimentación de 10 V en corrient continua en el caso de LTspice\n",
    "v 0 1 10\n",
    "Aquí tienes un ejemplo gráfico de los componentes comentados justo arriba (resistencia y voltaje):\n",
    "\n",
    "<img src=\"conectores.jpg\">"
   ]
  },
  {
   "cell_type": "markdown",
   "metadata": {},
   "source": [
    "**Unidades en SPICE**\n",
    "\n",
    "\n",
    "Las unidades de las magnitudes características del circuito son siempre unidades del Sistema Internacional y no es necesario indicarlo explícitamente en el netlist.\n",
    "\n",
    "La forma de especificar múltiplos de estas cantidades es añadiendo una letra. Básicamente las que nos interesan y las que suelen aparecer mayoritariamente son k para \"kilo-,\" m para \"mili?\" y u para \"micro?\".\n",
    "\n",
    "**Pregunta: Crea una tabla en Markdown con todos los prefijos de múltiplos que puedas, su abreviatura y su equivalencia numérica.**\n",
    "\n",
    "| Factor     |    Prefijo     |     Símbolo          | \n",
    "| ---------- | -------------- | -------------------- |\n",
    "|$10^{18}$   | exa            |       E              | \n",
    "| $10^{15}$  | peta           |       P              | \n",
    "| $10^{12}$  | tera           |       T              | \n",
    "| $10^{9}$   | giga           |       G              | \n",
    "| $10^{6}$   | mega           |       M              | \n",
    "|$10^{3}$    | kilo           |       K              | \n",
    "| $10^{2}$   | hecto          |       h              | \n",
    "| $10^{-1}$  | deci           |       d              | \n",
    "| $10^{-2}$  | centi          |       c              | \n",
    "| $10^{-3}$  | mili           |       m              | \n",
    "|$10^{-6}$   | micro          |       μ              | \n",
    "| $10^{-9}$  | nano           |       n              | \n",
    "|$10^{-12}$  | pico           |       p              | \n",
    "|$10^{-15}$  | femto          |       f              | \n",
    "|$10^{-18}$  | atto           |       a              | \n",
    " \n",
    "\n",
    "\n",
    "\n",
    "\n",
    "En el caso de las fuentes de alimentación hemos de especificar si se trata de corriente contínua (vdc) o alterna (ac).\n",
    "\n",
    "* Una resistencia de 5 Ohmios\n",
    "R2 1 0 5\n",
    "* Una pila de 10 Voltios (continua)\n",
    "V1 1 0 type=vdc vdc=10\n",
    "* Una resistencia de 5 kΩ\n",
    "RX 2 4 5k"
   ]
  },
  {
   "cell_type": "markdown",
   "metadata": {},
   "source": [
    "**¿Qué unidades del Sistema Internacional relacionadas con la asignatura -y los circuitos en general– conoces?**\n",
    "\n",
    "| Parámetro  | Unidad de medida   |    Símbolo         | \n",
    "| ---------- |------------------- | ------------------ |\n",
    "| voltaje    | voltio             |       V            | \n",
    "| corriente  | amperio            |       A            |                  \n",
    "|resistencia | ohmio              |       Ω            |                  \n",
    "|conductancia|siemens             |       G            |\n",
    "|capacidad   |faradio             |       F            |\n",
    "|carga       |culombio            |       C            |\n",
    "|inductancia |henrio              |       L            | \n",
    "|potencia    |vatio               |       W            |\n",
    "|frecuencia  |hertz               |       Hz           | \n",
    "|longitud    |metro               |       m            | \n",
    "|masa        |kilogramo           |       Kg           |\n",
    "|intensidad del campo magnético | Tesla |  T         |    \n",
    "|cantidad de sustancia          | mol   |  mol         | \n",
    "|intensidad luminosa            | candela |  cd        | "
   ]
  },
  {
   "cell_type": "markdown",
   "metadata": {},
   "source": [
    "Valores iniciales\n",
    "Aparecen justo al final de la definición del componente (ic). Suelen aplicarse principalmente con condensadores.\n",
    "\n",
    "* Una condensador inicialmente no cargado\n",
    "c 1 0 1u ic=0\n",
    "Fin del circuito\n",
    "El fin de la descripción de un netlist se especifica mediante el comando .end.\n",
    "\n",
    "* Mi primer circuito\n",
    "V 1 0 vdc=10 type=vdc\n",
    "R 1 0 5\n",
    "* Fin del circuito\n",
    ".end"
   ]
  },
  {
   "cell_type": "markdown",
   "metadata": {},
   "source": [
    "**Comandos SPICE para circuitos en corriente continua**\n",
    "\n",
    "Además de la descripción del circuito, hemos de indicar al intérprete de Spice qué tipo de análisis queremos realizar en sobre el mismo y cómo queremos presentar la salida de la simulación. Los comandos en Spice empiezan por un . y suelen escribirse justo al final del circuito, pero antes del comando .end.\n",
    "\n",
    " Mi primer circuito\n",
    "* Aquí van los componentes\n",
    "R 1 0 6k\n",
    "...\n",
    "* Comandos\n",
    ".op\n",
    "...\n",
    "* Fin del circuito\n",
    ".end"
   ]
  },
  {
   "cell_type": "markdown",
   "metadata": {},
   "source": [
    "**Hasta lo que has visto del lenguaje Spice, ¿dentro de qué tipo o conjunto de lenguajes encajaría? ¿Funcionales? ¿Específicos de dominio? ¿Procedurales? ¿Estructurados? ¿Orientado a Objetos ¿Funcionales? Justifica tu respuesta.**\n",
    "\n",
    "Desde mi punto de vista.el lenguaje Spice, lo enmarcaría dentro de los lenguajes específicos de dominio, ya que no es un lenguaje de propósito general dado que tiene su utilidad enfocada en la creación de los circuitos eléctricos.\n"
   ]
  },
  {
   "cell_type": "markdown",
   "metadata": {},
   "source": [
    "**Veamos los principales comandos de simulación:**\n",
    "\n",
    "\n",
    ".op es el comando más sencillo que podemos emplear en. Devuelve el voltaje e intensidad en cada ramal y componente del circuito. Este comando no necesita parámetros.\n",
    ".dc es uy parecido al comando .op pero nos permite cambiar el valor del voltaje de una fuente de alimentación en pasos consecutivos entre el valor A y el valor B. En el caso de que la fuente tuviera asignada ya un valor para su voltaje, este sería ignorado. Ejemplo:\n",
    "* Variamos el valor del voltaje\n",
    "* de la fuente \"v\" de 1 a 1000\n",
    "* en pasos de 5 voltios\n",
    "v 1 0 type=vdc vdc=10\n",
    ".dc v 1 start=1 stop=1000 step=20\n",
    "v2a 2 4 type=vdc vdc=9\n",
    "* Igual para v2a. Se ignora su voltaje de 9V\n",
    ".dc v2a start=0 stop=10 step=2\n",
    "El comando .tran realiza un análisis en el tiempo de los parámetros del circuito. Si no se emplea la directiva uic (use initial conditions) o esta es igual a cero, este análisis se realiza desde el punto estable de funcionamiento del circuito hasta un tiempo tfinal. y en intervalos tstep. Si empleamos un varlor distinto para parámetro uic, entonces se hará uso de las condiciones iniciales definidas para cada componente (típicamente ic=X en el caso de los condensadores, que da cuenta de la carga incial que estos pudieran tener).\n",
    "* Hacemos avanzar el tiempo entre\n",
    "* tinicial y tfinal en pasos tstep\n",
    ".tran tstart=X tstop=Y tstep=Z uic=0/1/2/3\n",
    "X, Y y Z tienen, evidentemente unidades de tiempo en el S.I. (segundos)."
   ]
  },
  {
   "cell_type": "markdown",
   "metadata": {},
   "source": [
    "**El parámetro uic puede tener varios valores y cada uno significa una cosa. Detállalo usando un celda Markdown y consultando la documentación de Ahkab.**.\n",
    "\n",
    "UIC (condiciones de uso iniciales): Esto se utiliza para especificar el estado del circuito en el momento **t - tstart.**\n",
    "Los valores disponibles son 0, 1, 2 y 3.\n",
    "\n",
    "| Estado      |                                  Descripción                                                                 \n",
    "| ----------- | ---------------------------------------------------------------------------------------------|\n",
    "| uic = 0     | Todas las tensiones y corrientes de nodo a través de fuentes v/h/e/ son cero a t=tstart      |\n",
    "| uic = 1     | El estatus a ‘t = tstart es el último resultado de un OP analisis                            |\n",
    "| uic = 2     | Es el último resultado de un análisis de OP en el que se establecen los valores de corrientes|\n",
    "| uic = 3     | Cargue un ic proporcionado por el usuario. Esto requiere una directiva .ic                   |"
   ]
  },
  {
   "cell_type": "markdown",
   "metadata": {},
   "source": [
    "**Intérprete SPICE que vamos a usar: Ahkab**\n",
    "\n",
    "\n",
    "Tras un estándar siempre hay una o varias implementaciones. Ahkab no deja de ser una implmentación más en Python del estándar Spice."
   ]
  },
  {
   "cell_type": "markdown",
   "metadata": {},
   "source": [
    "**Comenta las distintas implementaciones de lenguajes y estándares que conozcas.**\n",
    "\n",
    "|Lenguajes de programación|\n",
    "|-------------------------|\n",
    "|Ahkab python para estandar Spice   |\n",
    "|Anaconda python   |\n",
    "|ActivePython  |\n",
    "|SimPy para Python   |\n",
    "\n"
   ]
  },
  {
   "cell_type": "markdown",
   "metadata": {},
   "source": [
    "**Describe brevemente este software (creador, objetivos, versiones, licencia, características principales, dependencias, etc.)**\n",
    "\n",
    "Ahkab es un simulador de circuito interactivo de código abierto,es muy similar a SPICE.Ahkab se puede utilizar desde Python como módulo y desde el shell a través de su interfaz de línea de comandos. Giuseppe Venturini un ingeniero electrónico es el creador de este software, con la ayuda de los señores Ian Daniher y Rob Crowther .\n",
    "Ahkab v0.18 se lanzó el 18 de julio de 2015,con una licencia GLP v2.Las depencencias son numpy, scipy, sympy, matplotlib y tabulate.\n",
    "\n",
    "SIMULACIONES COMPATIBLES:\n",
    "\n",
    " - Análisis de Corriente continua. \n",
    " - Análisis de transitorios , fórmulas de diferenciación disponibles: Euler implícito, trapezoidal.\n",
    " - Análisis Corriente alterna.\n",
    " - Análisis periódico de estado estable de circuitos no autónomos, disparos en el dominio del tiempo y algoritmos de fuerza bruta."
   ]
  },
  {
   "cell_type": "markdown",
   "metadata": {},
   "source": [
    "**Trabajo práctico**\n",
    "\n",
    "\n",
    "Muy bien, ahora toca definir circuitos y ejecutar simulaciones sobre los mismos gracias a Ahkab.\n",
    "\n",
    "Instalación de bibliotecas necesarias\n",
    "Si estás utilizando Anaconda, asegúrate de tener su entorno activado:\n",
    "\n",
    "C:\\> conda activate base (en el caso de Windows)\n",
    "ó\n",
    "\n",
    "$ source /usr/local/Caskroom/miniconda/base/bin/activate (en el caso de macOS)\n",
    "En el caso de Windows tienes que tener en el PATH el directorio donde se encuentre el comando conda (visita la sección de Environment Variables del Panel de Control). Si has instalado Anaconda con esta opción marcada, ya no tienes que preocuparte por ello.\n",
    "\n",
    "En el caso de usar Visual Studio Code, este puede encontrar automáticamente la distintas distribuciones de Python que tengamos instaladas y si abrimos un terminal, este se adaptará automáticamente al entorno Python que hayamos seleccionado."
   ]
  },
  {
   "cell_type": "markdown",
   "metadata": {},
   "source": [
    "También puedes instalar Ahkab directamente desde este mismo notebook:"
   ]
  },
  {
   "cell_type": "code",
   "execution_count": 101,
   "metadata": {
    "scrolled": true
   },
   "outputs": [
    {
     "name": "stdout",
     "output_type": "stream",
     "text": [
      "Requirement already satisfied: ahkab in c:\\programdata\\anaconda6\\lib\\site-packages (0.18)\n",
      "Requirement already satisfied: numpy>1.7.0 in c:\\programdata\\anaconda6\\lib\\site-packages (from ahkab) (1.19.2)\n",
      "Requirement already satisfied: scipy>=0.14.0 in c:\\programdata\\anaconda6\\lib\\site-packages (from ahkab) (1.5.2)\n",
      "Requirement already satisfied: sympy>=0.7.6 in c:\\programdata\\anaconda6\\lib\\site-packages (from ahkab) (1.6.2)\n",
      "Requirement already satisfied: tabulate>=0.7.3 in c:\\programdata\\anaconda6\\lib\\site-packages (from ahkab) (0.8.7)\n",
      "Requirement already satisfied: mpmath>=0.19 in c:\\programdata\\anaconda6\\lib\\site-packages (from sympy>=0.7.6->ahkab) (1.1.0)\n",
      "Note: you may need to restart the kernel to use updated packages.\n"
     ]
    }
   ],
   "source": [
    "pip install ahkab"
   ]
  },
  {
   "cell_type": "markdown",
   "metadata": {},
   "source": [
    "Como siempre, una vez instalado cualquier framework para Python, ya lo podemos utilizar, tanto desde el REPL como desde un entorno Jupyter (Jupyter, Jupyterlab, VS Code o nteract). Recuerda que para usar el kernel Python (que viene con Anaconda) desde nteract debes seguir las instrucciones que se indican en su documentación oficial.\n",
    "\n",
    "\n",
    "\n",
    "Como vamos a pintar algunas gráficas, necesitamos instlar matplotlib. Al igual que con Ahkab, esto lo podemos hacer directamente desde este mismo notebook. Si hemos usado Anaconda:"
   ]
  },
  {
   "cell_type": "code",
   "execution_count": 102,
   "metadata": {
    "scrolled": true
   },
   "outputs": [
    {
     "name": "stdout",
     "output_type": "stream",
     "text": [
      "Collecting package metadata (current_repodata.json): ...working... done\n",
      "Solving environment: ...working... done\n",
      "\n",
      "# All requested packages already installed.\n",
      "\n",
      "\n",
      "Note: you may need to restart the kernel to use updated packages.\n"
     ]
    }
   ],
   "source": [
    "conda install -y -c conda-forge matplotlib"
   ]
  },
  {
   "cell_type": "code",
   "execution_count": 103,
   "metadata": {},
   "outputs": [],
   "source": [
    "import pylab as plt\n",
    "import ahkab"
   ]
  },
  {
   "cell_type": "markdown",
   "metadata": {},
   "source": [
    "**¿Qué es y para qué sirve PyLab?**\n",
    "\n",
    "PyLab es un conjunto de librerías entre las que se incluyen numpy, scipy, sympy, pandas, matplotlib, ipython. Con estas librerias podremos usar al interprete de Python como si de fuera Matlab y hacer nuestros archivos .py como si fueran scripts de MatLab.\n"
   ]
  },
  {
   "cell_type": "markdown",
   "metadata": {},
   "source": [
    "# Circuitos sencillos para trabajar con la ley de Ohm:\n",
    "\n",
    " La *mal llamada* ley de Ohm reza que el voltaje (la *energía por unidad de carga*) que se disipa en un tramo de un circuito eléctrico es equivalente a la intensidad ($I$) de la corriente (es decir, cuántos electrones circulan por unidad de tiempo) por la resistencia del material ($R$) en el que está desplazándose dicha corriente. Matemáticamente:\n",
    "\n",
    " $$\n",
    " V = I\\cdot R\n",
    " $$"
   ]
  },
  {
   "cell_type": "markdown",
   "metadata": {},
   "source": [
    "**Comprueba que la ecuación anterior está ajustada a nivel dimensional, es decir, que la naturaleza de lo que está a ambos lados del signo igual es la misma. Realiza este ejercicio con LaTeX en una celda Markdown.**\n",
    "\n",
    "La ecuación: $V=\\Omega *Amperios$ tiene que ser voltios igual a ohmios por amperios, la ecuación no puede ser milivoltios igual a ohmios por amperios,las unidades tienes que estar en la misma magnitud.\n",
    "Por ejemplo,sí montamos un circuito sencillo de una resistencia conectada a una pila de 12 voltios,podemos calcular la intensidad:\n",
    "\n",
    "$$\n",
    "I=\\frac{V}{\\Omega }\n",
    "$$\n",
    "\n",
    "\n",
    "$$\n",
    "I=\\frac{12V}{\\ 1000 Omega  } =0.012 amperios\n",
    "$$\n",
    "Por lo tanto:\n",
    "$$\n",
    "12V=1000\\Omega *0.012amperios\n",
    "$$\n",
    "Y nunca podría ser así:\n",
    "\n",
    "$$\n",
    "12mV\\neq 1000\\Omega *0.012amperios\n",
    "$$"
   ]
  },
  {
   "cell_type": "markdown",
   "metadata": {},
   "source": [
    "Comencemos con el circuito más sencillo posible de todos:\n",
    "\n",
    "<img src=\"circuitosencillo.jpg\">"
   ]
  },
  {
   "cell_type": "markdown",
   "metadata": {},
   "source": [
    "Vamos a escribir su contenido (componentes o netlist) en disco con el nombre circuito sencillo.sp. Esto lo podemos lograr directamente y en tiempo real desde una celda de Jupyter gracias a los comandos mágicos de este entorno de programación literaria. En concreto vamos a utilizar %%writefile que guarda los contenidos de una celda como un fichero."
   ]
  },
  {
   "cell_type": "code",
   "execution_count": 104,
   "metadata": {},
   "outputs": [
    {
     "name": "stdout",
     "output_type": "stream",
     "text": [
      "Overwriting circuito sencillo.sp\n"
     ]
    }
   ],
   "source": [
    "%%writefile \"circuito sencillo.sp\"\n",
    "* Este es un circuito sencillo\n",
    "r1 1 0 100\n",
    "v1 1 0 type=vdc vdc=9\n",
    ".op\n",
    ".dc v1 start=0 stop=9 step=1\n",
    ".end"
   ]
  },
  {
   "cell_type": "markdown",
   "metadata": {},
   "source": [
    "Ahora vamos a leer su descripción con Ahkab, interpretar y ejecutar las simulaciones que en él estén descritas."
   ]
  },
  {
   "cell_type": "code",
   "execution_count": 105,
   "metadata": {},
   "outputs": [],
   "source": [
    "circuito_y_análisis = ahkab.netlist_parser.parse_circuit('circuito sencillo.sp')"
   ]
  },
  {
   "cell_type": "markdown",
   "metadata": {},
   "source": [
    "Separamos la información del netlist (componentes) de los análisis (uno de tipo op y otro de tipo dc):"
   ]
  },
  {
   "cell_type": "code",
   "execution_count": 106,
   "metadata": {},
   "outputs": [
    {
     "name": "stdout",
     "output_type": "stream",
     "text": [
      "[{'type': 'op', 'guess': True, 'x0': None}, {'type': 'dc', 'source': 'v1', 'start': 0.0, 'stop': 9.0, 'step': 1.0, 'sweep_type': 'LIN'}]\n"
     ]
    }
   ],
   "source": [
    "circuito = circuito_y_análisis[0]\n",
    "análisis_en_netlist = circuito_y_análisis[1]\n",
    "lista_de_análisis = ahkab.netlist_parser.parse_analysis(circuito, análisis_en_netlist)\n",
    "print(lista_de_análisis)"
   ]
  },
  {
   "cell_type": "markdown",
   "metadata": {},
   "source": [
    "**Pregunta: ¿qué tipo de estructura de Python es lista_de_análisis?**\n",
    "\n",
    "El tipo de estructura es una lista y cada elemento es un diccionario."
   ]
  },
  {
   "cell_type": "markdown",
   "metadata": {},
   "source": [
    "Las simulaciones que implican listas de datos (.dc, .tran, etc.) necesitan de un fichero temporal (outfile) donde almacenar los resultados. Para ello tenemos que definir la propiedad outfile."
   ]
  },
  {
   "cell_type": "code",
   "execution_count": 107,
   "metadata": {},
   "outputs": [],
   "source": [
    "lista_de_análisis[1]['outfile'] = \"simulación dc.tsv\""
   ]
  },
  {
   "cell_type": "markdown",
   "metadata": {},
   "source": [
    "**Pregunta: escribe el código Python necesario para identificar qué análisis de lista_de_análisis son de tipo dc ó tran y sólo añadir la propiedad outfile en estos casos. Aquí tenéis un post de Stackoverflow con algo de ayuda. Un poco más de ayuda: el siguiente código (sí, una única línea) devuelve el índice de la simulación que es de tipo dc. Para simplificar un poco el ejercicio, suponed que, como máximo, habrá un análisis de tipo tran y/o dc.**"
   ]
  },
  {
   "cell_type": "code",
   "execution_count": 108,
   "metadata": {},
   "outputs": [],
   "source": [
    "# Nos declaramos un contador que indicara cuantos analisis cumplen la condicion de tipo 'dc' o 'tran'\n",
    "counter = 0\n",
    "# Recorremos los elementos de la lista de analisis, cada elemento de la lista sera un diccionario\n",
    "for analisis in lista_de_análisis:\n",
    "    # Comprobamos que la propiedad \"type\" del analisis actual sea dc o tran\n",
    "    if analisis.get('type', None) in ['dc', 'tran']:\n",
    "        # En el caso de que type sea dc o tran, asignamos la propiedad \"outfile\" al analisis actual\n",
    "        # indicandole como fichero de salida el nombre outfileX.tsv, dodne X es un contador\n",
    "        # Le ponemos un numero en el fichero de salida por si acaso hubiera mas de un registor que cumple la\n",
    "        # condicion (no pisemos el fichero de salida) e incrementamos el contador\n",
    "        analisis['outfile'] = f'outfile{counter}.tsv'\n",
    "        counter = counter + 1"
   ]
  },
  {
   "cell_type": "markdown",
   "metadata": {},
   "source": [
    "Una vez que ya hemos separado netlists de simulaciones, ahora ejecutamos las segundas (¡todas a la vez!) gracias al método .run de Ahkab:"
   ]
  },
  {
   "cell_type": "code",
   "execution_count": 109,
   "metadata": {},
   "outputs": [
    {
     "name": "stdout",
     "output_type": "stream",
     "text": [
      "Starting op analysis:\n",
      "Calculating guess: skipped. (linear circuit)\n",
      "Solving...   done.\n",
      "Solving...   done.\n",
      "Difference check within margins.\n",
      "(Voltage: er=0.001, ea=1e-06, Current: er=0.001, ea=1e-09)\n",
      "Starting DC analysis:\n",
      "Solving...  done\n"
     ]
    }
   ],
   "source": [
    "resultados = ahkab.run(circuito, lista_de_análisis)"
   ]
  },
  {
   "cell_type": "markdown",
   "metadata": {},
   "source": [
    "Resultados de la simulación .dc\n",
    "\n",
    "Imprimimos información sobre la simulación de tipo .dc:"
   ]
  },
  {
   "cell_type": "code",
   "execution_count": 110,
   "metadata": {},
   "outputs": [
    {
     "name": "stdout",
     "output_type": "stream",
     "text": [
      "<DC simulation results for '* este es un circuito sencillo' (netlist circuito sencillo.sp). LIN sweep of V1 from 0 to 9 V. Run on 2020-12-24 09:34:19, data file outfile0.tsv>\n"
     ]
    }
   ],
   "source": [
    "print(resultados['dc'])"
   ]
  },
  {
   "cell_type": "markdown",
   "metadata": {},
   "source": [
    " Veamos qué variables podemos dibujar para el caso del análisis `dc`."
   ]
  },
  {
   "cell_type": "code",
   "execution_count": 111,
   "metadata": {},
   "outputs": [
    {
     "name": "stdout",
     "output_type": "stream",
     "text": [
      "['V1', 'V1', 'I(V1)']\n"
     ]
    }
   ],
   "source": [
    "print(resultados['dc'].keys())"
   ]
  },
  {
   "cell_type": "markdown",
   "metadata": {},
   "source": [
    "**Y ahora graficamos el resultado del análisis anterior. Concretamente vamos a representar el voltaje en el borne 1 (V1) con respecto a la intensidad del circuito (I(V1)).**"
   ]
  },
  {
   "cell_type": "code",
   "execution_count": 112,
   "metadata": {
    "scrolled": true
   },
   "outputs": [
    {
     "data": {
      "image/png": "[encoded data removed]",
      "text/plain": [
       "<Figure size 432x288 with 1 Axes>"
      ]
     },
     "metadata": {
      "needs_background": "light"
     },
     "output_type": "display_data"
    }
   ],
   "source": [
    "figura = plt.figure()\n",
    "plt.title(\"Prueba DC\")\n",
    "plt.ylabel(\"INTENSIDAD (Amperios)\")\n",
    "plt.xlabel(\"VOLTAJE (Voltios)\")\n",
    "plt.plot(resultados['dc']['V1'], resultados['dc']['I(V1)'], label=\"Voltaje (V1)\")\n",
    "plt.grid()"
   ]
  },
  {
   "cell_type": "markdown",
   "metadata": {},
   "source": [
    "**Comenta la gráfica anterior… ¿qué estamos viendo exactamente? Etiqueta los ejes de la misma convenientemente. Así como ningún número puede viajar solo sin hacer referencia a su naturaleza, ninguna gráfica puede estar sin sus ejes convenientemente etiquetados. Algo de ayuda. ¿Qué biblioteca estamos usando para graficar?**\n",
    "\n",
    "Estamos viendo una representación lineal de la intensidad que circula por la resistencia del circuito respecto a la tensión de la bateria que se aplica.\n",
    "La biblioteca que estamos utilizando para graficar es Matplotlib."
   ]
  },
  {
   "cell_type": "code",
   "execution_count": 113,
   "metadata": {
    "scrolled": true
   },
   "outputs": [
    {
     "name": "stdout",
     "output_type": "stream",
     "text": [
      "{V1: 9.0, I(V1): -0.09}\n"
     ]
    }
   ],
   "source": [
    "print(resultados['op'].results)"
   ]
  },
  {
   "cell_type": "markdown",
   "metadata": {},
   "source": [
    "**Justifica el sencillo resultado anterior (análisis op). Repite el cálculo con Sympy, atendiendo con mimo a las unidades y al formateo de los resultados (tal y como hemos visto en muchos otros notebooks en clase).**"
   ]
  },
  {
   "cell_type": "code",
   "execution_count": 114,
   "metadata": {
    "scrolled": true
   },
   "outputs": [
    {
     "name": "stdout",
     "output_type": "stream",
     "text": [
      "Requirement already satisfied: sympy in c:\\programdata\\anaconda6\\lib\\site-packages (1.6.2)\n",
      "Requirement already satisfied: mpmath>=0.19 in c:\\programdata\\anaconda6\\lib\\site-packages (from sympy) (1.1.0)\n",
      "Note: you may need to restart the kernel to use updated packages.\n"
     ]
    }
   ],
   "source": [
    "pip install sympy"
   ]
  },
  {
   "cell_type": "code",
   "execution_count": 115,
   "metadata": {},
   "outputs": [],
   "source": [
    "import mpmath"
   ]
  },
  {
   "cell_type": "code",
   "execution_count": 116,
   "metadata": {},
   "outputs": [],
   "source": [
    "import sympy"
   ]
  },
  {
   "cell_type": "code",
   "execution_count": 117,
   "metadata": {},
   "outputs": [
    {
     "name": "stdout",
     "output_type": "stream",
     "text": [
      "La tensión de la bateria del circuito es  9 voltios\n",
      "La Resistencia del circuito es  100 ohmios\n",
      "Aplicamos la ley de ohm (V=R*I):\n",
      "La intensidad que circula por el circuito es  0.09 Amperios\n"
     ]
    }
   ],
   "source": [
    "#Tensión de la Bateria es igual a 9 voltios\n",
    "Bateria=9\n",
    "#Resistencia igual a 100 ohmios \n",
    "Resistencia=100\n",
    "#Calculamos el valor de la intensidad aplicando la ley de ohm (V=R*I)\n",
    "Intensidad=Bateria/Resistencia\n",
    "print(\"La tensión de la bateria del circuito es \", Bateria, \"voltios\")\n",
    "print(\"La Resistencia del circuito es \",Resistencia,\"ohmios\")\n",
    "print(\"Aplicamos la ley de ohm (V=R*I):\")\n",
    "print(\"La intensidad que circula por el circuito es \",Intensidad,\"Amperios\")"
   ]
  },
  {
   "cell_type": "markdown",
   "metadata": {},
   "source": [
    "**Resolución del mismo circuito pero con LTspice\n",
    "¿Cómo? ¿Es esto posible? ¿Desde Jupyter? Sí!!! Pero primero, por comodidad, deberíamos crear un alias del comando que apunte\n",
    "a nuestro ejecutable. Además, con un poco de inteligencia, podemos adelantarnos al hecho de si estamos en Windows o macOS:**"
   ]
  },
  {
   "cell_type": "code",
   "execution_count": 118,
   "metadata": {},
   "outputs": [],
   "source": [
    "import platform\n",
    "%alias lts /ApplicationsC:\\Program Files\\LTC\\LTspiceXVII/LTspice.app/Contents/MacOS/LTspice -ascii -b\n",
    "if platform.system() == \"Windows\":\n",
    "    %alias lts \"C:\\Program Files\\LTC\\LTspiceXVII\\XVIIx64.exe\" -ascii -b"
   ]
  },
  {
   "cell_type": "markdown",
   "metadata": {},
   "source": [
    "**Pregunta: ¿Qué significan las opciones -b y -ascii?**\n",
    "\n",
    "El flag **-b** es para ejecutar en modo batch.\n",
    "El flag **-ascii** es para utilizar archivos ASCII.raw "
   ]
  },
  {
   "cell_type": "markdown",
   "metadata": {},
   "source": [
    "También tenemos que cambiar ligeramente la sintaxis. Ejecuta esta línea para que se escriba el fichero siguiente. Para LTspice, vamos a reservar la extensión .net:"
   ]
  },
  {
   "cell_type": "code",
   "execution_count": 119,
   "metadata": {},
   "outputs": [
    {
     "name": "stdout",
     "output_type": "stream",
     "text": [
      "Overwriting circuito sencillo.net\n"
     ]
    }
   ],
   "source": [
    "%%writefile \"circuito sencillo.net\"\n",
    "* Este es un circuito sencillo adaptado para LTspice\n",
    "r1 1 0 100\n",
    "v1 1 0 9\n",
    ".op\n",
    "* Comentamos el análisis .dc para centrarnos primero en el .op\n",
    "* .dc v1 1 10 \n",
    ".end"
   ]
  },
  {
   "cell_type": "markdown",
   "metadata": {},
   "source": [
    "Ejecutamos LTspice con el circuito (de la misma manera que antes habíamos hecho con Ahkab)."
   ]
  },
  {
   "cell_type": "code",
   "execution_count": 120,
   "metadata": {},
   "outputs": [],
   "source": [
    "lts \"circuito sencillo.net\""
   ]
  },
  {
   "cell_type": "markdown",
   "metadata": {},
   "source": [
    "Veamos el contenido de la simulación."
   ]
  },
  {
   "cell_type": "code",
   "execution_count": 121,
   "metadata": {},
   "outputs": [],
   "source": [
    "%pycat circuito sencillo.log"
   ]
  },
  {
   "cell_type": "markdown",
   "metadata": {},
   "source": [
    "Ahora repitamos lo mismo para el análisis .dc:"
   ]
  },
  {
   "cell_type": "code",
   "execution_count": 122,
   "metadata": {},
   "outputs": [
    {
     "name": "stdout",
     "output_type": "stream",
     "text": [
      "Overwriting circuito sencillo.net\n"
     ]
    }
   ],
   "source": [
    "%%writefile \"circuito sencillo.net\"\n",
    "* Este es un circuito sencillo adaptado para LTspice\n",
    "r1 1 0 100\n",
    "v1 0 1 9\n",
    "* Ahora obviamos el análisis .op\n",
    "* .op\n",
    ".dc v1 1 10 \n",
    ".end"
   ]
  },
  {
   "cell_type": "code",
   "execution_count": 123,
   "metadata": {},
   "outputs": [],
   "source": [
    "lts \"circuito sencillo.net\""
   ]
  },
  {
   "cell_type": "markdown",
   "metadata": {},
   "source": [
    "Al ejecutar esta simulación, se genera un fichero .raw con los resultados. Es muy parecido al outfile que hemos empleado antes con Ahkab. Para leer este fichero, tenemos que usar el paquete ltspice de Python, el cual podéis instalar directamente desde Jupyter:"
   ]
  },
  {
   "cell_type": "code",
   "execution_count": 124,
   "metadata": {},
   "outputs": [
    {
     "name": "stdout",
     "output_type": "stream",
     "text": [
      "Requirement already satisfied: ltspice in c:\\programdata\\anaconda6\\lib\\site-packages (1.0.0)Note: you may need to restart the kernel to use updated packages.\n",
      "Requirement already satisfied: numpy in c:\\programdata\\anaconda6\\lib\\site-packages (from ltspice) (1.19.2)\n",
      "\n"
     ]
    }
   ],
   "source": [
    "pip install ltspice"
   ]
  },
  {
   "cell_type": "markdown",
   "metadata": {},
   "source": [
    "Ahora ya podemos leer este fichero .raw y pintar una recta de voltaje muy parecida a la que obtuvimos anteriormente con Ahkab:"
   ]
  },
  {
   "cell_type": "code",
   "execution_count": 125,
   "metadata": {
    "scrolled": false
   },
   "outputs": [
    {
     "data": {
      "image/png": "[encoded data removed]",
      "text/plain": [
       "<Figure size 432x288 with 1 Axes>"
      ]
     },
     "metadata": {
      "needs_background": "light"
     },
     "output_type": "display_data"
    }
   ],
   "source": [
    "import ltspice\n",
    "l = ltspice.Ltspice(\"circuito sencillo.raw\")\n",
    "l.parse()\n",
    "plt.ylabel(\"INTENSIDAD (Amperios)\")\n",
    "plt.xlabel(\"VOLTAJE (Voltios)\")\n",
    "plt.title(\"Relación de corriente respecto al voltaje\")\n",
    "time = l.get_time()\n",
    "V1 = l.get_data('V(1)')\n",
    "plt.plot(time, V1)\n",
    "plt.grid()"
   ]
  },
  {
   "cell_type": "code",
   "execution_count": 126,
   "metadata": {},
   "outputs": [
    {
     "name": "stdout",
     "output_type": "stream",
     "text": [
      "2020-12-24 09:34:36"
     ]
    },
    {
     "name": "stderr",
     "output_type": "stream",
     "text": [
      "W: Locale appears not set! please export LANG=\"en_US.UTF-8\" or equivalent, \n",
      "W: or ahkab's unicode support is broken.\n",
      "Traceback (most recent call last):\n",
      "  File \"c:\\programdata\\anaconda6\\lib\\runpy.py\", line 194, in _run_module_as_main\n",
      "    return _run_code(code, main_globals, None,\n",
      "  File \"c:\\programdata\\anaconda6\\lib\\runpy.py\", line 87, in _run_code\n",
      "    exec(code, run_globals)\n",
      "  File \"C:\\ProgramData\\Anaconda6\\Scripts\\ahkab.exe\\__main__.py\", line 7, in <module>\n",
      "  File \"c:\\programdata\\anaconda6\\lib\\site-packages\\ahkab\\__main__.py\", line 155, in _cli\n",
      "    ahkab.main(filename=remaning_args[0],"
     ]
    },
    {
     "name": "stdout",
     "output_type": "stream",
     "text": [
      "\n",
      "ahkab v. 0.18 (c) 2006-2015 Giuseppe Venturini\n",
      "\n",
      "Operating Point (OP) analysis\n",
      "\n",
      "Netlist: circuito sencillo.sp\n",
      "Title: * este es un circuito sencillo\n",
      "At 300.00 K\n",
      "Options:\n",
      "\tvea = 1.000000e-06\n",
      "\tver = 0.001000\n",
      "\tiea = 1.000000e-09\n",
      "\tier = 0.001000\n",
      "\tgmin = 0.000000e+00\n",
      "\n",
      "Convergence reached in 2 iterations.\n",
      "\n",
      "========\n",
      "RESULTS:\n",
      "========\n",
      "\n",
      "Variable    Units      Value         Error    %\n",
      "----------  -------  -------  ------------  ---\n",
      "V1          V           9     -9.00001e-12    0\n",
      "I(V1)       A          -0.09   0              0\n",
      "\n",
      "========================\n",
      "ELEMENTS OP INFORMATION:\n",
      "========================\n",
      "\n"
     ]
    },
    {
     "name": "stderr",
     "output_type": "stream",
     "text": [
      "\n",
      "  File \"c:\\programdata\\anaconda6\\lib\\site-packages\\ahkab\\ahkab.py\", line 953, in main\n",
      "    results.update(run(circ, [an]))\n",
      "  File \"c:\\programdata\\anaconda6\\lib\\site-packages\\ahkab\\ahkab.py\", line 714, in run\n",
      "    r = analysis[an_type](circ, **an_item)\n",
      "  File \"c:\\programdata\\anaconda6\\lib\\site-packages\\ahkab\\dc_analysis.py\", line 685, in op_analysis\n",
      "    opsolution.write_to_file(filename='stdout')\n",
      "  File \"c:\\programdata\\anaconda6\\lib\\site-packages\\ahkab\\results.py\", line 469, in write_to_file\n",
      "    fp.write(t + '\\n\\n')\n",
      "  File \"c:\\programdata\\anaconda6\\lib\\encodings\\cp1252.py\", line 19, in encode\n",
      "    return codecs.charmap_encode(input,self.errors,encoding_table)[0]\n",
      "UnicodeEncodeError: 'charmap' codec can't encode character '\\u2126' in position 16: character maps to <undefined>\n"
     ]
    }
   ],
   "source": [
    "!ahkab \"circuito sencillo.sp\""
   ]
  },
  {
   "cell_type": "markdown",
   "metadata": {},
   "source": [
    "[](https://raw.githubusercontent.com/pammacdotnet/spicelab/master/resistencias%20en%20serie.svg?sanitize=true)"
   ]
  },
  {
   "cell_type": "markdown",
   "metadata": {},
   "source": [
    "Vamos a resolver (en punto de operación) el siguiente circuito:\n",
    "\n",
    "\n",
    "<img src=\"RESISTENCIAS.jpg\">"
   ]
  },
  {
   "cell_type": "markdown",
   "metadata": {},
   "source": [
    "Ejercicio premium: Graficar los datos anteriores con Gnuplot.\n",
    "\n",
    "He realizado un script en python para recoger los datos del archivo circuito sencillo.raw y volcarlos en un archivo llamado datos.dat\n",
    "\n",
    "values = []\n",
    "\n",
    "\n",
    "with open('circuito sencillo.raw', 'r') as reader:\n",
    "    values_found = False\n",
    "    line = reader.readline()\n",
    "\n",
    "    while line != '' and not values_found:\n",
    "        line = reader.readline().strip()\n",
    "        if line == 'Values:':\n",
    "            values_found = True\n",
    "\n",
    "    while line != '':\n",
    "        line = reader.readline().strip()\n",
    "        line = reader.readline().strip()\n",
    "        line = reader.readline().strip()\n",
    "        # Solo agregamos la 3era linea de cada bloque de 4\n",
    "        if line != '':\n",
    "            values.append(float(line))\n",
    "\n",
    "        line = reader.readline().strip()\n",
    "\n",
    "with open('datos.dat', 'w') as writer:\n",
    "    idx = 0\n",
    "    for value in values:\n",
    "        print(value, file=writer, end=' ')\n",
    "        print(idx, file=writer, end='\\n')\n",
    "        idx = idx + 1\n",
    "\n",
    "El archivo datos.dat ,tiene este formato,sólo pondre los primeros valores ya que tiene más de mil:\n",
    "\n",
    "-0.01 0\n",
    "-0.01009 1\n",
    "-0.01018 2\n",
    "-0.01027 3\n",
    "-0.01036 4\n",
    "-0.01045 5\n",
    "-0.01053999999999999 6\n",
    "-0.01062999999999999 7\n",
    "-0.01071999999999999 8\n",
    "\n",
    "He creado un script de Gnuplot en el que grafico los datos del archivo datos.dat:\n",
    "\n",
    "set terminal png size 1024,768\n",
    "set output \"plot.png\"\n",
    "\n",
    "set xlabel \"Titulo X\"\n",
    "set ylabel \"Titulo Y\"\n",
    "\n",
    "set yzeroaxis\n",
    "\n",
    "\n",
    "set boxwidth 0.05 absolute\n",
    "set style fill solid 1.0 noborder\n",
    "\n",
    "gauss(x)=a/(sigma*sqrt(2.*pi))*exp(-(x-mu)**2./(2.*sigma**2))\n",
    "fit gauss(x) \"datos.dat\" via a, sigma, mu\n",
    "\n",
    "plot \"datos.dat\" u 1:2, gauss(x)\n",
    "\n",
    "Y nos produce este gráfico:\n",
    "\n",
    "<img src=\"gnuplot.png\">\n",
    "\n"
   ]
  },
  {
   "cell_type": "code",
   "execution_count": 127,
   "metadata": {},
   "outputs": [
    {
     "name": "stdout",
     "output_type": "stream",
     "text": [
      "Overwriting resistencias en serie.net\n"
     ]
    }
   ],
   "source": [
    "%%writefile \"resistencias en serie.net\"\n",
    "* circuito con tres resistencias en serie\n",
    "v1 1 0 type=vdc vdc=9\n",
    "R1 0 2 3k\n",
    "R2 2 3 10k  \n",
    "R3 3 1 5k\n",
    "* análisis del circuito\n",
    ".op\n",
    ".end"
   ]
  },
  {
   "cell_type": "code",
   "execution_count": 128,
   "metadata": {},
   "outputs": [
    {
     "name": "stdout",
     "output_type": "stream",
     "text": [
      "Starting op analysis:\n",
      "Calculating guess: skipped. (linear circuit)\n",
      "Solving...   done.\n",
      "Solving...   done.\n",
      "Difference check within margins.\n",
      "(Voltage: er=0.001, ea=1e-06, Current: er=0.001, ea=1e-09)\n"
     ]
    }
   ],
   "source": [
    "circuito_y_análisis = ahkab.netlist_parser.parse_circuit('resistencias en serie.net')\n",
    "circuito = circuito_y_análisis[0]       \n",
    "análisis_en_netlist = circuito_y_análisis[1]\n",
    "lista_de_análisis = ahkab.netlist_parser.parse_analysis(circuito, análisis_en_netlist)\n",
    "resultados = ahkab.run(circuito, lista_de_análisis)"
   ]
  },
  {
   "cell_type": "code",
   "execution_count": 129,
   "metadata": {},
   "outputs": [
    {
     "name": "stdout",
     "output_type": "stream",
     "text": [
      "OP simulation results for '* circuito con tres resistencias en serie'(netlist resistencias en serie.net).\n",
      "Run on 2020-12-24 09:34:37, data file None.\n",
      "Variable    Units      Value     Error    %\n",
      "----------  -------  -------  --------  ---\n",
      "V1          V         9       -9e-12      0\n",
      "V2          V         1.5     -1.5e-12    0\n",
      "V3          V         6.5     -6.5e-12    0\n",
      "I(V1)       A        -0.0005   0          0\n"
     ]
    }
   ],
   "source": [
    "print(resultados['op'])\n"
   ]
  },
  {
   "cell_type": "markdown",
   "metadata": {},
   "source": [
    "Los cantidades V1, V2 y V3 hacen referencia a los distintos valores del potencial que se ha perdido en cada uno de los bornes que has elegido para describir el netlist (1, 2, etc.). Por ejemplo, podemos calcular el potencial consumido por la resistencia R1 y verás que coincide con el del punto V2 devuelto por Ahkab. Ejercicio: compruébalo tú mismo y refléjalo por escrito."
   ]
  },
  {
   "cell_type": "code",
   "execution_count": 130,
   "metadata": {},
   "outputs": [
    {
     "name": "stdout",
     "output_type": "stream",
     "text": [
      "El valor resistivos del circuito es :  18000 ohmios\n",
      "La intensidad que recorre el circuito es  0.0005 amperios\n",
      "La caida de tensión en R1 es : 1.5 voltios la caida es R2 es 5.0 voltios y la caida en R3 es 2.5 voltios\n",
      "La intensidad es la misma para las 3 resistencia y la tensión de la bateria se reparte según el valor resistivo\n"
     ]
    }
   ],
   "source": [
    "#Valor de la bateria en voltios\n",
    "Bateria= 9 \n",
    "#Valor de la resistencia 1 en ohmios\n",
    "R1=3000\n",
    "#Valor de la resistencia 2 en ohmios\n",
    "R2=10000\n",
    "#Valor de la resistencia 3 en ohmios\n",
    "R3=5000\n",
    "#Calculamos el valor resistivo del circuito\n",
    "RT=R1+R2+R3\n",
    "print(\"El valor resistivos del circuito es : \", RT, \"ohmios\")\n",
    "#Calculamos la inetnsidad que circula por el circuito\n",
    "Intensidad=Bateria/RT\n",
    "print(\"La intensidad que recorre el circuito es \",Intensidad,\"amperios\")\n",
    "#Calculamos la caida de tensión en cada resistencia\n",
    "V1=R1*Intensidad\n",
    "V2=R2*Intensidad\n",
    "V3=R3*Intensidad\n",
    "print(\"La caida de tensión en R1 es :\",V1,\"voltios\",\"la caida es R2 es\",V2,\"voltios\",\"y la caida en R3 es\",V3,\"voltios\")\n",
    "print(\"La intensidad es la misma para las 3 resistencia y la tensión de la bateria se reparte según el valor resistivo\")"
   ]
  },
  {
   "cell_type": "markdown",
   "metadata": {},
   "source": [
    "Cargamos primero todo lo relacionado con Sympy:"
   ]
  },
  {
   "cell_type": "code",
   "execution_count": 131,
   "metadata": {},
   "outputs": [],
   "source": [
    "from sympy.physics.units import ohms, amperes, volts\n",
    "from sympy.physics.units import convert_to"
   ]
  },
  {
   "cell_type": "code",
   "execution_count": 132,
   "metadata": {},
   "outputs": [
    {
     "data": {
      "text/latex": [
       "$\\displaystyle - 1.5 \\text{V}$"
      ],
      "text/plain": [
       "-1.5*volt"
      ]
     },
     "execution_count": 132,
     "metadata": {},
     "output_type": "execute_result"
    }
   ],
   "source": [
    "r1 = 3E3*ohms\n",
    "intensidad_ahkab = resultados['op']['I(V1)'][0][0]*amperes\n",
    "v2 = convert_to(intensidad_ahkab*r1, [volts])\n",
    "v2"
   ]
  },
  {
   "cell_type": "markdown",
   "metadata": {},
   "source": [
    "**Pregunta: reproduce el resto de los valores anteriores de manera manual mediante Sympy (es decir, aplicando la ley de Ohm, pero con un toque computacional). Te pongo aquí un ejemplo del que puedes partir… En él sólo calculo la corriente que circula por el circuito (sí, justo la que antes Ahkab ha devuelto de manera automática). Para ello necesito previamente computar la resistencia total (r_total). Faltarían el resto de resultados y convertirlos a unidades más vistosas (mediante la orden convert_to y .n()).**"
   ]
  },
  {
   "cell_type": "code",
   "execution_count": 133,
   "metadata": {},
   "outputs": [
    {
     "data": {
      "text/latex": [
       "$\\displaystyle 0.0005 \\text{A}$"
      ],
      "text/plain": [
       "0.0005*ampere"
      ]
     },
     "execution_count": 133,
     "metadata": {},
     "output_type": "execute_result"
    }
   ],
   "source": [
    "from sympy.physics.units import ohms, amperes, volts\n",
    "from sympy.physics.units import kilo, gram\n",
    "from sympy import solve, symbols, Eq\n",
    "v1 = 9*volts\n",
    "r1 = 3*kilo*ohms\n",
    "r2 = 10*kilo*ohms\n",
    "r3 = 5*kilo*ohms\n",
    "r_total = r1 + r2 + r3\n",
    "intensidad = symbols('i')\n",
    "ley_ohm = Eq(v1, intensidad*r_total)\n",
    "solucion_para_intensidad = solve(ley_ohm, intensidad)\n",
    "inten = convert_to(solucion_para_intensidad[0], [amperes]).n(2)\n",
    "inten"
   ]
  },
  {
   "cell_type": "code",
   "execution_count": 134,
   "metadata": {},
   "outputs": [
    {
     "name": "stdout",
     "output_type": "stream",
     "text": [
      "0.0015*ampere*ohm*Prefix(kilo, k, 3, 10)\n"
     ]
    },
    {
     "data": {
      "text/latex": [
       "$\\displaystyle 0.0015 Prefix\\left(kilo, k, 3, 10\\right) \\text{V}$"
      ],
      "text/plain": [
       "0.0015*volt*Prefix(kilo, k, 3, 10)"
      ]
     },
     "execution_count": 134,
     "metadata": {},
     "output_type": "execute_result"
    }
   ],
   "source": [
    "vr1=r1*inten\n",
    "print(vr1)\n",
    "x = convert_to(vr1,[volts, gram])\n",
    "x.as_coeff_Mul(rational=True)\n",
    "x.as_content_primitive()\n",
    "x.as_coefficients_dict()\n",
    "x"
   ]
  },
  {
   "cell_type": "code",
   "execution_count": 135,
   "metadata": {},
   "outputs": [
    {
     "data": {
      "text/latex": [
       "$\\displaystyle 0.005 Prefix\\left(kilo, k, 3, 10\\right) \\text{V}$"
      ],
      "text/plain": [
       "0.005*volt*Prefix(kilo, k, 3, 10)"
      ]
     },
     "execution_count": 135,
     "metadata": {},
     "output_type": "execute_result"
    }
   ],
   "source": [
    "vr2=r2*inten\n",
    "convert_to(vr2,[volts])"
   ]
  },
  {
   "cell_type": "code",
   "execution_count": 136,
   "metadata": {},
   "outputs": [
    {
     "data": {
      "text/latex": [
       "$\\displaystyle 0.0025 Prefix\\left(kilo, k, 3, 10\\right) \\text{V}$"
      ],
      "text/plain": [
       "0.0025*volt*Prefix(kilo, k, 3, 10)"
      ]
     },
     "execution_count": 136,
     "metadata": {},
     "output_type": "execute_result"
    }
   ],
   "source": [
    "vr3=r3*inten\n",
    "convert_to(vr3,[volts])"
   ]
  },
  {
   "cell_type": "code",
   "execution_count": 137,
   "metadata": {},
   "outputs": [
    {
     "data": {
      "text/latex": [
       "$\\displaystyle 18 Prefix\\left(kilo, k, 3, 10\\right) \\Omega$"
      ],
      "text/plain": [
       "18*ohm*Prefix(kilo, k, 3, 10)"
      ]
     },
     "execution_count": 137,
     "metadata": {},
     "output_type": "execute_result"
    }
   ],
   "source": [
    "convert_to(r_total,[ohms])"
   ]
  },
  {
   "cell_type": "markdown",
   "metadata": {},
   "source": [
    "**Demuestra que se cumple la Ley de Kirchhoff de la energía en un circuito, es decir, que la suma de la energía suministrada por las fuentes (pilas) es igual a la consumida por las resistencias. Realiza la operación con Sympy.**\n"
   ]
  },
  {
   "cell_type": "markdown",
   "metadata": {},
   "source": [
    "$$\n",
    "\\sum_{i}^{N}Vfuentes=\\sum_{j}^{M}Vconsumido en resistencias\n",
    "$$\n",
    "\n",
    "\n",
    "Ten en cuenta que en este caso sólo hay una fuente.\n"
   ]
  },
  {
   "cell_type": "code",
   "execution_count": 138,
   "metadata": {},
   "outputs": [
    {
     "name": "stdout",
     "output_type": "stream",
     "text": [
      "El valor resistivos del circuito es :  18000 ohmios\n",
      "La intensidad que recorre el circuito es  0.0005 amperios\n",
      "La caida de tensión en R1 es : 1.5 voltios la caida es R2 es 5.0 voltios y la caida en R3 es 2.5 voltios\n",
      "La intensidad es la misma para las 3 resistencia y la tensión de la bateria se reparte según el valor resistivo\n",
      "Podemos demostrar la ley de Ley de Kirchhoff \n",
      "Que la suma de la energía suministrada por la pila es igual a la consumida por las resistencias\n",
      "La tensión de la bateria es igual a la suma de las tensiones de cada resistencia 9V=1,5V+5V+2,5V\n",
      "En un circuito en serie la tensión de la pila se divide proporcionalmente al valor resistivo\n",
      "También podemos ver que en un circuito en serie la intensidad es la misma que pasa por cada resistencia\n",
      "Esto es lógico ya que la intensidad sólo tiene un camino o hilo por donde circular\n"
     ]
    }
   ],
   "source": [
    "#Valor de la bateria en voltios\n",
    "Bateria= 9 \n",
    "#Valor de la resistencia 1 en ohmios\n",
    "R1=3000\n",
    "#Valor de la resistencia 2 en ohmios\n",
    "R2=10000\n",
    "#Valor de la resistencia 3 en ohmios\n",
    "R3=5000\n",
    "#Calculamos el valor resistivo del circuito\n",
    "RT=R1+R2+R3\n",
    "print(\"El valor resistivos del circuito es : \", RT, \"ohmios\")\n",
    "#Calculamos la inetnsidad que circula por el circuito\n",
    "Intensidad=Bateria/RT\n",
    "print(\"La intensidad que recorre el circuito es \",Intensidad,\"amperios\")\n",
    "#Calculamos la caida de tensión en cada resistencia\n",
    "V1=R1*Intensidad\n",
    "V2=R2*Intensidad\n",
    "V3=R3*Intensidad\n",
    "print(\"La caida de tensión en R1 es :\",V1,\"voltios\",\"la caida es R2 es\",V2,\"voltios\",\"y la caida en R3 es\",V3,\"voltios\")\n",
    "print(\"La intensidad es la misma para las 3 resistencia y la tensión de la bateria se reparte según el valor resistivo\")\n",
    "print(\"Podemos demostrar la ley de Ley de Kirchhoff \")\n",
    "print(\"Que la suma de la energía suministrada por la pila es igual a la consumida por las resistencias\")\n",
    "Bateria=V1+V2+V3\n",
    "print(\"La tensión de la bateria es igual a la suma de las tensiones de cada resistencia 9V=1,5V+5V+2,5V\")\n",
    "print(\"En un circuito en serie la tensión de la pila se divide proporcionalmente al valor resistivo\")\n",
    "print(\"También podemos ver que en un circuito en serie la intensidad es la misma que pasa por cada resistencia\")\n",
    "print(\"Esto es lógico ya que la intensidad sólo tiene un camino o hilo por donde circular\")"
   ]
  },
  {
   "cell_type": "markdown",
   "metadata": {},
   "source": [
    "# Análisis `.op` de circuitos con resistencias en paralelo\n",
    "\n",
    "<img src=\"paralelo.jpg\">\n",
    "\n",
    "Vamos a complicar un poco el trabajo añadiendo elementos en paralelo.\n",
    "\n",
    " > **Pregunta**: realiza los análisis `.op` de los siguientes circuitos.\n",
    " Para ello crea un netlist separado para cada uno donde queden correctamente descritos\n",
    " junto con la simulación (`.op`). Comenta los resultados que devuelve Ahkab (no imprimas los resultados de las simulaciones *sin más*)."
   ]
  },
  {
   "cell_type": "code",
   "execution_count": 139,
   "metadata": {},
   "outputs": [
    {
     "name": "stdout",
     "output_type": "stream",
     "text": [
      "Overwriting resistencias en paralelo 3.cir\n"
     ]
    }
   ],
   "source": [
    "%%writefile \"resistencias en paralelo 3.cir\"\n",
    "* resistencias en paralelo kirchoff\n",
    "V1 2 0 vdc=9 type=vdc\n",
    "V2 3 0 vdc=1.5 type=vdc\n",
    "V3 6 0 vdc=0   type=vdc\n",
    "r1 2 1 47\n",
    "r2 1 4 220\n",
    "r3 1 3 180\n",
    "r4 4 5 1k\n",
    "r5 5 6 560\n",
    ".op\n",
    ".end"
   ]
  },
  {
   "cell_type": "code",
   "execution_count": 140,
   "metadata": {},
   "outputs": [
    {
     "name": "stdout",
     "output_type": "stream",
     "text": [
      "Starting op analysis:\n",
      "Calculating guess: skipped. (linear circuit)\n",
      "Solving...   done.\n",
      "Solving...   done.\n",
      "Difference check within margins.\n",
      "(Voltage: er=0.001, ea=1e-06, Current: er=0.001, ea=1e-09)\n"
     ]
    }
   ],
   "source": [
    "circuito_y_análisis = ahkab.netlist_parser.parse_circuit('resistencias en paralelo 3.cir')\n",
    "circuito = circuito_y_análisis[0]       \n",
    "análisis_en_netlist = circuito_y_análisis[1]\n",
    "lista_de_análisis = ahkab.netlist_parser.parse_analysis(circuito, análisis_en_netlist)\n",
    "resultados = ahkab.run(circuito, lista_de_análisis)"
   ]
  },
  {
   "cell_type": "code",
   "execution_count": 141,
   "metadata": {},
   "outputs": [
    {
     "name": "stdout",
     "output_type": "stream",
     "text": [
      "OP simulation results for '* resistencias en paralelo kirchoff'(netlist resistencias en paralelo 3.cir).\n",
      "Run on 2020-12-24 09:34:37, data file None.\n",
      "Variable    Units          Value         Error    %\n",
      "----------  -------  -----------  ------------  ---\n",
      "V2          V         9           -8.99997e-12    0\n",
      "V3          V         1.5         -1.5e-12        0\n",
      "V6          V         0           -8.67362e-19    0\n",
      "V1          V         7.29441     -7.29442e-12    0\n",
      "V4          V         6.39285     -6.39285e-12    0\n",
      "V5          V         2.29487     -2.29487e-12    0\n",
      "I(V1)       A        -0.0362891    0              0\n",
      "I(V2)       A         0.0321912    0              0\n",
      "I(V3)       A         0.00409798   0              0\n"
     ]
    }
   ],
   "source": [
    "print(resultados['op'])"
   ]
  },
  {
   "cell_type": "markdown",
   "metadata": {},
   "source": [
    "**En este circuito ('resistencias en paralelo 3.cir') podemos analizar que en el nodo A entra la I1 y la I2 por la posición de las baterias,por lo tanto podemos comprobar que ley de kirchoff se cumple ya que la suma de las corrientes de entrada, I(V1) e I(V2) es igual a I(V3) que es la corriente de salida**\n"
   ]
  },
  {
   "cell_type": "code",
   "execution_count": 142,
   "metadata": {},
   "outputs": [
    {
     "name": "stdout",
     "output_type": "stream",
     "text": [
      "Overwriting resistencias en paralelo 2.cir\n"
     ]
    }
   ],
   "source": [
    "%%writefile \"resistencias en paralelo 2.cir\" \n",
    "* resistencias en paralelo\n",
    "V 1 0 vdc=9 type=vdc\n",
    "V1 1 2 vdc=0 type=vdc\n",
    "V2 1 3 vdc=0 type=vdc\n",
    "V3 1 4 vdc=0 type=vdc\n",
    "r1 2 0 10k\n",
    "r2 3 0 2k\n",
    "r3 4 0 1k\n",
    ".op\n",
    ".end"
   ]
  },
  {
   "cell_type": "code",
   "execution_count": 143,
   "metadata": {},
   "outputs": [
    {
     "name": "stdout",
     "output_type": "stream",
     "text": [
      "Starting op analysis:\n",
      "Calculating guess: skipped. (linear circuit)\n",
      "Solving...   done.\n",
      "Solving...   done.\n",
      "Difference check within margins.\n",
      "(Voltage: er=0.001, ea=1e-06, Current: er=0.001, ea=1e-09)\n"
     ]
    }
   ],
   "source": [
    "circuito_y_análisis = ahkab.netlist_parser.parse_circuit('resistencias en paralelo 2.cir')\n",
    "circuito = circuito_y_análisis[0]       \n",
    "análisis_en_netlist = circuito_y_análisis[1]\n",
    "lista_de_análisis = ahkab.netlist_parser.parse_analysis(circuito, análisis_en_netlist)\n",
    "resultados = ahkab.run(circuito, lista_de_análisis)"
   ]
  },
  {
   "cell_type": "code",
   "execution_count": 144,
   "metadata": {},
   "outputs": [
    {
     "name": "stdout",
     "output_type": "stream",
     "text": [
      "OP simulation results for '* resistencias en paralelo'(netlist resistencias en paralelo 2.cir).\n",
      "Run on 2020-12-24 09:34:37, data file None.\n",
      "Variable    Units      Value    Error    %\n",
      "----------  -------  -------  -------  ---\n",
      "V1          V         9        -9e-12    0\n",
      "V2          V         9        -9e-12    0\n",
      "V3          V         9        -9e-12    0\n",
      "V4          V         9        -9e-12    0\n",
      "I(V)        A        -0.0144    0        0\n",
      "I(V1)       A         0.0009    0        0\n",
      "I(V2)       A         0.0045    0        0\n",
      "I(V3)       A         0.009     0        0\n"
     ]
    }
   ],
   "source": [
    "print(resultados['op'])"
   ]
  },
  {
   "cell_type": "markdown",
   "metadata": {},
   "source": [
    "**En el análisis podemos ver que las tensiones de las resistencias son iguales, el mismo valor que la bateria, 9 voltios.\n",
    "La Intensidad total del circuito es de 0.0144 amperios,esta corriente se reparte por cada ramal de cada resistencia.Circulara más corriente por el ramal donde el valor resistivo sea menor,esto lo podemos deducir despejando la ecuación de la ley de ohm. Intensidad es tensión partido resistencia por lo tanto a menor resistencia mayor corriente circulara por la misma.La suma de las corrientes de cada ramal nos dara la corriente total del circuito.I(V)=I(V1)+I(V2)+I(V3)**"
   ]
  },
  {
   "cell_type": "code",
   "execution_count": 145,
   "metadata": {},
   "outputs": [
    {
     "name": "stdout",
     "output_type": "stream",
     "text": [
      "Overwriting resistencias en paralelo 1.cir\n"
     ]
    }
   ],
   "source": [
    "%%writefile \"resistencias en paralelo 1.cir\"\n",
    "* resistencias en paralelo\n",
    "vdd 0 1 vdc=12 type=vdc\n",
    "r2 1 2 1k\n",
    "r3 2 3 220\n",
    "r4 3 0 1.5k\n",
    "r5 2 0 470\n",
    ".op\n",
    ".end"
   ]
  },
  {
   "cell_type": "code",
   "execution_count": 146,
   "metadata": {},
   "outputs": [
    {
     "name": "stdout",
     "output_type": "stream",
     "text": [
      "Starting op analysis:\n",
      "Calculating guess: skipped. (linear circuit)\n",
      "Solving...   done.\n",
      "Solving...   done.\n",
      "Difference check within margins.\n",
      "(Voltage: er=0.001, ea=1e-06, Current: er=0.001, ea=1e-09)\n"
     ]
    }
   ],
   "source": [
    "circuito_y_análisis = ahkab.netlist_parser.parse_circuit('resistencias en paralelo 1.cir')\n",
    "circuito = circuito_y_análisis[0]       \n",
    "análisis_en_netlist = circuito_y_análisis[1]\n",
    "lista_de_análisis = ahkab.netlist_parser.parse_analysis(circuito, análisis_en_netlist)\n",
    "resultados = ahkab.run(circuito, lista_de_análisis)"
   ]
  },
  {
   "cell_type": "markdown",
   "metadata": {},
   "source": [
    "Imprimimos los resultados del análisis .op. Como puedes comprobar, Ahkab sólo reporta la intensidad de corriente en las ramas en las que hay una pila (en este caso, la rama donde está la pila VDD)."
   ]
  },
  {
   "cell_type": "code",
   "execution_count": 147,
   "metadata": {},
   "outputs": [
    {
     "name": "stdout",
     "output_type": "stream",
     "text": [
      "OP simulation results for '* resistencias en paralelo'(netlist resistencias en paralelo 1.cir).\n",
      "Run on 2020-12-24 09:34:37, data file None.\n",
      "Variable    Units           Value        Error    %\n",
      "----------  -------  ------------  -----------  ---\n",
      "V1          V        -12           1.2e-11        0\n",
      "V2          V         -3.23533     3.23532e-12    0\n",
      "V3          V         -2.8215      2.82151e-12    0\n",
      "I(VDD)      A         -0.00876467  0              0\n"
     ]
    }
   ],
   "source": [
    "print(resultados['op'])"
   ]
  },
  {
   "cell_type": "markdown",
   "metadata": {},
   "source": [
    "Pregunta: inserta dos pilas virtuales de 0 voltios en el resto de ramas del circuito (Vdummy1 en la rama donde está R5 y Vdummy2 en la rama donde está R3 y R4) para que Ahkab nos imprima también la corriente en las mismas. Es muy parecido al tercer circuito que tienes que resolver, donde V1, V2 y V3 tienen cero voltios. Estas pilas nulas son, a todos los efectos, simples cables. Una vez que ya tienes las corrientes en todas las ramas, comprueba que se cumple la Ley de Kirchhoff para las corrientes:"
   ]
  },
  {
   "cell_type": "code",
   "execution_count": 148,
   "metadata": {},
   "outputs": [
    {
     "name": "stdout",
     "output_type": "stream",
     "text": [
      "Overwriting resistencias en paralelo 1 con pilas dummy.cir\n"
     ]
    }
   ],
   "source": [
    "%%writefile \"resistencias en paralelo 1 con pilas dummy.cir\"\n",
    "* resistencias en paralelo\n",
    "vdd 0 1 vdc=12 type=vdc\n",
    "Vdummy1 2 4 vdc=0 type=vdc\n",
    "Vdummy2 0 5 vdc=0 type=vdc\n",
    "r2 1 2 1k\n",
    "r5 4 0 470\n",
    "r3 2 3 220\n",
    "r4 3 5 1.5k\n",
    ".op\n",
    ".end"
   ]
  },
  {
   "cell_type": "code",
   "execution_count": 149,
   "metadata": {},
   "outputs": [
    {
     "name": "stdout",
     "output_type": "stream",
     "text": [
      "Starting op analysis:\n",
      "Calculating guess: skipped. (linear circuit)\n",
      "Solving...   done.\n",
      "Solving...   done.\n",
      "Difference check within margins.\n",
      "(Voltage: er=0.001, ea=1e-06, Current: er=0.001, ea=1e-09)\n"
     ]
    }
   ],
   "source": [
    "circuito_y_análisis = ahkab.netlist_parser.parse_circuit('resistencias en paralelo 1 con pilas dummy.cir')\n",
    "circuito = circuito_y_análisis[0]       \n",
    "análisis_en_netlist = circuito_y_análisis[1]\n",
    "lista_de_análisis = ahkab.netlist_parser.parse_analysis(circuito, análisis_en_netlist)\n",
    "resultados = ahkab.run(circuito, lista_de_análisis)"
   ]
  },
  {
   "cell_type": "code",
   "execution_count": 150,
   "metadata": {},
   "outputs": [
    {
     "name": "stdout",
     "output_type": "stream",
     "text": [
      "OP simulation results for '* resistencias en paralelo'(netlist resistencias en paralelo 1 con pilas dummy.cir).\n",
      "Run on 2020-12-24 09:34:37, data file None.\n",
      "Variable    Units           Value         Error    %\n",
      "----------  -------  ------------  ------------  ---\n",
      "V1          V        -12            1.2e-11        0\n",
      "V2          V         -3.23533      3.23533e-12    0\n",
      "V4          V         -3.23533      3.23533e-12    0\n",
      "V5          V          0           -6.50521e-19    0\n",
      "V3          V         -2.8215       2.82151e-12    0\n",
      "I(VDD)      A         -0.00876467   0              0\n",
      "I(VDUMMY1)  A         -0.00688367   0              0\n",
      "I(VDUMMY2)  A          0.001881     0              0\n"
     ]
    }
   ],
   "source": [
    "print(resultados['op'])"
   ]
  },
  {
   "cell_type": "markdown",
   "metadata": {},
   "source": [
    "El nodo 2 es el nodo A y el nodo cero ahora lo voy a tipificar como el nodo B.\n",
    "Según la disposición de VDD la corriente ira del polo positivo de la pila la polo negativo de la misma.A este corriente que atraviesa r1 le llamaremos I1.Por lo tanto ya sabemos que I1 entra en el nodo A.I2 sera la corriente que atraviese la resistencia r5, el sentido de esta corriente sera del nodo A al nodo B ya que el nodo B es la referencia a masa del circuito.\n",
    "La corriente I3 será la que recorra las resistencias r3 y r4, el sentido de esta corriente será del noda A hacia el nodo B ya que como hemos comentado antes el nodo B esta refefrenciado a masa.\n",
    "Por la tanto, ya podemos deducir que I2 e I3 son corrientes de salida. Asi que aplicamos la Ley de Kirchhoff:\n",
    "\n",
    "$$\n",
    "\\sum_{i}^{N}intensidades de entrada=\\sum_{j}^{M}intensidades de salida\n",
    "$$\n",
    "\n",
    "$$\n",
    "I1=I2+I3 (I1 ENTRA AL NODO A, E I2,I3 SALEN DEL NODO A)\n",
    "$$\n",
    "\n",
    "\n",
    "\n",
    "Igualamos la intensidad,aplicando la ley de ohm.\n",
    "\n",
    "$$\n",
    "Intensidad=\\frac{V}{R}\n",
    "$$\n",
    "\n",
    "$$\n",
    "\\frac{12-VA}{1\\kappa \\Omega }=\\frac{VA-VB}{470\\Omega }+\\frac{VA-VB}{1,5\\kappa \\Omega }\n",
    "$$\n",
    "\n",
    "\n",
    "Como VB es masa por lo tanto tiene valor cero.Por lo tanto la ecuación queda de la siguiente manera:\n",
    "\n",
    "$$\n",
    "\\frac{12-VA}{1\\kappa \\Omega }=\\frac{VA}{470\\Omega }+\\frac{VA}{1,5\\kappa \\Omega }\n",
    "$$\n",
    "\n",
    "\n",
    "Calculamos el mínimo común múltiplo.\n",
    "\n",
    "$$\n",
    "\\frac{1692-141VA}{141000}=\\frac{300VA}{141000}+\\frac{94VA}{141000}\n",
    "$$\n",
    "\n",
    "$$\n",
    "1692=141VA+300VA+94VA\n",
    "$$\n",
    "\n",
    "$$\n",
    "VA=\\frac{1692}{535}=3,16 voltios\n",
    "$$\n",
    "\n",
    "\n",
    "Ahora que sabemos la tensión VA podemos sabemos el amperaje de cada intensidad.\n",
    "\n",
    "\n",
    "$$\n",
    "\\frac{12-VA}{1\\kappa \\Omega }=\\frac{VA}{470\\Omega }+\\frac{VA}{1,5\\kappa \\Omega }\n",
    "$$\n",
    "\n",
    "$$\n",
    "\\frac{12V-3,16V}{1\\kappa \\Omega }=\\frac{3,16V}{470\\Omega }+\\frac{3,16V}{1,5\\kappa \\Omega }\n",
    "$$\n",
    "\n",
    "$$\n",
    "0.0088A=0.00672 A+0.00210 A\n",
    "$$\n",
    "\n",
    "\n",
    "**Por lo tanto comprobamos que I1=I2+I3 se cumple**\n",
    "\n",
    "\n",
    "\n",
    "\n",
    "\n",
    "\n"
   ]
  },
  {
   "cell_type": "markdown",
   "metadata": {},
   "source": [
    "# Circuitos en DC que evolucionan con el tiempo"
   ]
  },
  {
   "cell_type": "markdown",
   "metadata": {},
   "source": [
    "Vamos a ver qué le pasa a un circuito de corriente continua cuando tiene un condensador en serie.\n",
    "\n",
    "<img src=\"RC.jpg\">\n"
   ]
  },
  {
   "cell_type": "markdown",
   "metadata": {},
   "source": [
    "Al igual que antes, primero guardamos el circuito en un netlist externo:"
   ]
  },
  {
   "cell_type": "code",
   "execution_count": 151,
   "metadata": {},
   "outputs": [
    {
     "name": "stdout",
     "output_type": "stream",
     "text": [
      "Overwriting condensador en continua.ckt\n"
     ]
    }
   ],
   "source": [
    "%%writefile \"condensador en continua.ckt\"\n",
    "* Carga condensador\n",
    "v1 1 0 type=vdc vdc=6\n",
    "v1dummy 3 0 type=vdc vdc=0\n",
    "r1 2 1 1k\n",
    "c1 2 3 1m ic=0\n",
    ".op\n",
    ".tran tstep=0.1 tstop=8 uic=0\n",
    ".end"
   ]
  },
  {
   "cell_type": "markdown",
   "metadata": {},
   "source": [
    "**Pregunta: ¿qué significa el parámetro ic=0? ¿qué perseguimos con un análisis de tipo .tran?**\n",
    "\n",
    "El parámetro ic=0 es un condición inicial de carga del condensador, ya que en un primer momento la carga del condensador es igual a cero.\n",
    "Con el análisis .tran podemos hacer un análisis temporal de variables de salida: Se pueden especificar distintas excitaciones: pulsos, exponenciales, sinusoidales, etc. En este caso queremos hacer un análisis de un condensador como variable de salida,tanto corriente de carga y el tiempo que tarda en adquirir la tensión de la bateria.\n"
   ]
  },
  {
   "cell_type": "code",
   "execution_count": 152,
   "metadata": {},
   "outputs": [],
   "source": [
    "circuito_y_análisis = ahkab.netlist_parser.parse_circuit(\"condensador en continua.ckt\")"
   ]
  },
  {
   "cell_type": "markdown",
   "metadata": {},
   "source": [
    "Separamos el netlist de los análisis y asignamos un fichero de almacenamiento de datos (outfile):"
   ]
  },
  {
   "cell_type": "code",
   "execution_count": 153,
   "metadata": {},
   "outputs": [],
   "source": [
    "circuito = circuito_y_análisis[0]\n",
    "análisis_en_netlist = circuito_y_análisis[1]\n",
    "lista_de_análisis = ahkab.netlist_parser.parse_analysis(circuito, análisis_en_netlist)\n",
    "lista_de_análisis[1]['outfile'] = \"simulación tran.tsv\""
   ]
  },
  {
   "cell_type": "markdown",
   "metadata": {},
   "source": [
    "Ejecutamos la simulación:"
   ]
  },
  {
   "cell_type": "code",
   "execution_count": 154,
   "metadata": {},
   "outputs": [
    {
     "name": "stdout",
     "output_type": "stream",
     "text": [
      "Starting op analysis:\n",
      "Calculating guess: skipped. (linear circuit)\n",
      "Solving...   done.\n",
      "Solving...   done.\n",
      "Difference check within margins.\n",
      "(Voltage: er=0.001, ea=1e-06, Current: er=0.001, ea=1e-09)\n",
      "Starting transient analysis: \n",
      "Selected method: TRAP\n",
      "Solving...  done.\n",
      "Average time step: 0.0869565\n",
      "OP simulation results for '* carga condensador'(netlist condensador en continua.ckt).\n",
      "Run on 2020-12-24 09:34:38, data file None.\n",
      "Variable    Units      Value    Error    %\n",
      "----------  -------  -------  -------  ---\n",
      "V1          V              6   -6e-12    0\n",
      "V3          V              0    0        0\n",
      "V2          V              6   -6e-12    0\n",
      "I(V1)       A              0    0        0\n",
      "I(V1DUMMY)  A              0    0        0\n"
     ]
    }
   ],
   "source": [
    "resultados = ahkab.run(circuito, lista_de_análisis)\n",
    "print(resultados['op'])\n",
    "#print(resultados['tran'].keys())"
   ]
  },
  {
   "cell_type": "markdown",
   "metadata": {},
   "source": [
    "Dibujamos la gráfica de carga del condensador con el tiempo, centrándonos en la intensidad que circula por la pila."
   ]
  },
  {
   "cell_type": "code",
   "execution_count": 155,
   "metadata": {},
   "outputs": [
    {
     "data": {
      "image/png": "[encoded data removed]",
      "text/plain": [
       "<Figure size 432x288 with 1 Axes>"
      ]
     },
     "metadata": {
      "needs_background": "light"
     },
     "output_type": "display_data"
    }
   ],
   "source": [
    "figura = plt.figure()\n",
    "plt.title(\"Drenaje de corriente efectuada por el condensador\")\n",
    "plt.plot(resultados['tran']['T'], resultados['tran']['I(V1DUMMY)'], label=\"Una etiqueta\")\n",
    "plt.xlabel(\"t/s\")\n",
    "plt.ylabel(\"Intensidad\")\n",
    "plt.grid()"
   ]
  },
  {
   "cell_type": "markdown",
   "metadata": {},
   "source": [
    "Al cerrar el circuito el condensador ira cargandose con la tensión de la bateria, a medida que la tensión es absorvida por el condensador la corriente sufrira un drenaje por la ingestión del voltaje por parte del condensador."
   ]
  },
  {
   "cell_type": "markdown",
   "metadata": {},
   "source": [
    "**Pregunta: Etiqueta los ejes convenientemente y comenta la gráfica. Dibuja otra gráfica con el voltaje en el borne V1. ¿Por qué son opuestas? ¿Qué le ocurre al voltaje a medida que evoluciona el circuito en el tiempo? Dibuja las gráficas en un formato estándar de representación vectorial (SVG, por ejemplo). Algo de ayuda aquí. ¿Qué valores devuelve el análisis de tipo .op? Justifícalo.**\n",
    "\n",
    "Cuando cerramos el circuito el condensador empieza a cargarse por lo que ira aumentado su carga y su voltaje. A medida que el condensador se carga,el circuito se va quedando sin corriente ya que el voltaje se va acumulando en el condensador. Cuando el condensador ha drenado todo el circuito tendrá todo el voltaje de la pila y en el circuito no habrá corriente, por eso las gráficas son opuestas ya que en una apreciamos como la intensidad tiende hacia cero y en el otra gráfica el condensador se va cargando.\n",
    "El análisis de tipo .op, además de calcular el punto de trabajo, nos da información de los modelos en pequeña señal de los dispositivos.En este caso nos calcula la corriente y tensión del condensador."
   ]
  },
  {
   "cell_type": "code",
   "execution_count": 156,
   "metadata": {},
   "outputs": [
    {
     "data": {
      "text/plain": [
       "Text(0, 0.5, 'Voltaje')"
      ]
     },
     "execution_count": 156,
     "metadata": {},
     "output_type": "execute_result"
    },
    {
     "data": {
      "image/png": "[encoded data removed]",
      "text/plain": [
       "<Figure size 432x288 with 1 Axes>"
      ]
     },
     "metadata": {
      "needs_background": "light"
     },
     "output_type": "display_data"
    }
   ],
   "source": [
    "figura = plt.figure()\n",
    "plt.title(\"Carga del condensador\")\n",
    "plt.plot(resultados['tran']['T'], resultados['tran']['V2'], label=\"Una etiqueta\")\n",
    "plt.grid()\n",
    "plt.xlabel(\"t/s\")\n",
    "plt.ylabel(\"Voltaje\")"
   ]
  },
  {
   "cell_type": "markdown",
   "metadata": {},
   "source": [
    "En esta gráfica podemos apreciar como el condensador tarda casi 5 segundos en absorber la tensión de la pila,dejando al circuito drenado sin corriente, como se podía observar en la gráfica anterior\n"
   ]
  },
  {
   "cell_type": "markdown",
   "metadata": {},
   "source": [
    "## Carrera de condensadores\n",
    "\n",
    "Ahora tenemos un circuito con dos condensadores en paralelo:\n",
    "\n",
    "<img src=\"conden_para.jpg\">"
   ]
  },
  {
   "cell_type": "markdown",
   "metadata": {},
   "source": [
    "Pregunta: Crea el netlist de este circuito e identifica qué condensador se satura primero. Dibuja la evolución de la intensidad en ambas ramas de manera simultánea. Aquí tienes un ejemplo de cómo se hace esto en Matplotlib. Recuerda que para que Ahkab nos devuelva la corriente en una rama, debe de estar presente una pila. Si es necesario, inserta pilas virtuales de valor nulo (cero voltios), tal y como hemos comentado antes. Grafica también los voltajes (en otra gráfica, pero que aparezcan juntos).\n"
   ]
  },
  {
   "cell_type": "code",
   "execution_count": 157,
   "metadata": {},
   "outputs": [
    {
     "name": "stdout",
     "output_type": "stream",
     "text": [
      "Overwriting carrera en condensadores.ckt\n"
     ]
    }
   ],
   "source": [
    "%%writefile \"carrera en condensadores.ckt\"\n",
    "* Carga condensador\n",
    "v0 1 0 type=vdc vdc=10\n",
    "r1 1 2 3k\n",
    "c1 2 3 47u ic=0\n",
    "v1dummy 3 0 type=vdc vdc=0\n",
    "c2 2 4 22u ic=0\n",
    "v2dummy 4 0 type=vdc vdc=0\n",
    ".tran tstep=0.01 tstart=6.5 tstop=7.5 uic=0\n",
    ".end"
   ]
  },
  {
   "cell_type": "code",
   "execution_count": 158,
   "metadata": {},
   "outputs": [
    {
     "name": "stdout",
     "output_type": "stream",
     "text": [
      "Starting transient analysis: \n",
      "Selected method: TRAP\n",
      "Solving...  done.\n",
      "Average time step: 0.00900901\n"
     ]
    }
   ],
   "source": [
    "circuito_y_análisis = ahkab.netlist_parser.parse_circuit(\"carrera en condensadores.ckt\")\n",
    "circuito = circuito_y_análisis[0]       \n",
    "análisis_en_netlist = circuito_y_análisis[1]\n",
    "lista_de_análisis = ahkab.netlist_parser.parse_analysis(circuito, análisis_en_netlist)\n",
    "lista_de_análisis[0]['outfile'] = \"simulación tran carrera condensadores.tsv\"\n",
    "resultados = ahkab.run(circuito, lista_de_análisis)"
   ]
  },
  {
   "cell_type": "code",
   "execution_count": 159,
   "metadata": {},
   "outputs": [
    {
     "data": {
      "text/plain": [
       "[<matplotlib.lines.Line2D at 0x1d40dbe1f40>]"
      ]
     },
     "execution_count": 159,
     "metadata": {},
     "output_type": "execute_result"
    },
    {
     "data": {
      "image/png": "[encoded data removed]",
      "text/plain": [
       "<Figure size 432x288 with 1 Axes>"
      ]
     },
     "metadata": {
      "needs_background": "light"
     },
     "output_type": "display_data"
    }
   ],
   "source": [
    "figura = plt.figure()\n",
    "plt.title(\"Carrera de condensadores\")\n",
    "plt.xlim(6.65, 7.5)\n",
    "plt.ylim(0.0, 0.0005)\n",
    "plt.xlabel(\"t/s\")\n",
    "plt.grid()\n",
    "plt.ylabel(\"Intensidad(A)\")\n",
    "plt.plot(resultados['tran']['T'], resultados['tran']['I(V1DUMMY)'],label=\"Intensidad en C1\")\n",
    "plt.plot(resultados['tran']['T'], resultados['tran']['I(V2DUMMY)'],label=\"Intensidad en C2\")"
   ]
  },
  {
   "cell_type": "markdown",
   "metadata": {},
   "source": [
    "El condensador C1 tiene una corriente inicial mayor que el condensador C2, esto es así porque el condensador C1 tiene mayor capacidad que el condesador C2 y por los tanto ofrece menos resistencia al paso de la corriente. Debido a esto el condensador C1 se va a saturar antes que el condensador C2."
   ]
  },
  {
   "cell_type": "code",
   "execution_count": 160,
   "metadata": {},
   "outputs": [
    {
     "data": {
      "text/plain": [
       "Text(0, 0.5, 'Voltaje')"
      ]
     },
     "execution_count": 160,
     "metadata": {},
     "output_type": "execute_result"
    },
    {
     "data": {
      "image/png": "[encoded data removed]",
      "text/plain": [
       "<Figure size 432x288 with 1 Axes>"
      ]
     },
     "metadata": {
      "needs_background": "light"
     },
     "output_type": "display_data"
    }
   ],
   "source": [
    "figura = plt.figure()\n",
    "plt.title(\"Carga de un condensador y tensión de la bateria\")\n",
    "plt.plot(resultados['tran']['T'], resultados['tran']['V2'], label=\"Una etiqueta\")\n",
    "plt.plot(resultados['tran']['T'], resultados['tran']['V1'], label=\"Una etiqueta\")\n",
    "plt.grid()\n",
    "plt.xlabel(\"t/s\")\n",
    "plt.ylabel(\"Voltaje\")"
   ]
  },
  {
   "cell_type": "markdown",
   "metadata": {},
   "source": [
    "Al estar en paralelo los condensadores C1 Y C2 ,la tensión que van adquirir va a ser la misma,en este caso 10 voltios que es la tensión de la bateria."
   ]
  },
  {
   "cell_type": "markdown",
   "metadata": {},
   "source": [
    "**Circuitos en corriente alterna\n",
    "Ejercicio : Simula este circuito con LTspice y representa el voltaje y la intensidad en función del tiempo. Traduce este ejercicio a la versión Spice de Akhab y haz la misma representación.**"
   ]
  },
  {
   "cell_type": "code",
   "execution_count": 161,
   "metadata": {},
   "outputs": [
    {
     "name": "stdout",
     "output_type": "stream",
     "text": [
      "Overwriting corriente alterna.net\n"
     ]
    }
   ],
   "source": [
    "%%writefile \"corriente alterna.net\"\n",
    "* Circuito en corriente alterna\n",
    "v1 1 0 sin(0 120 60 0 0)\n",
    "r1 1 0 10k\n",
    ".tran 1\n",
    ".end"
   ]
  },
  {
   "cell_type": "code",
   "execution_count": 162,
   "metadata": {},
   "outputs": [],
   "source": [
    "lts \"corriente alterna.net\""
   ]
  },
  {
   "cell_type": "code",
   "execution_count": 163,
   "metadata": {},
   "outputs": [],
   "source": [
    "%pycat corriente alterna.log"
   ]
  },
  {
   "cell_type": "code",
   "execution_count": 164,
   "metadata": {},
   "outputs": [
    {
     "data": {
      "text/plain": [
       "[<matplotlib.lines.Line2D at 0x1d40c4771c0>]"
      ]
     },
     "execution_count": 164,
     "metadata": {},
     "output_type": "execute_result"
    },
    {
     "data": {
      "image/png": "[encoded data removed]",
      "text/plain": [
       "<Figure size 432x288 with 1 Axes>"
      ]
     },
     "metadata": {
      "needs_background": "light"
     },
     "output_type": "display_data"
    }
   ],
   "source": [
    "import ltspice\n",
    "plt.title(\"Señal del generador de tensión\")\n",
    "l = ltspice.Ltspice(\"corriente alterna.raw\")\n",
    "l.parse()\n",
    "plt.xlim(0, 0.10)\n",
    "plt.ylabel(\"voltios\")\n",
    "plt.xlabel(\"t/s\")\n",
    "time = l.get_time()\n",
    "V1 = l.get_data('V(1)')\n",
    "plt.grid()\n",
    "plt.plot(time, V1)"
   ]
  },
  {
   "cell_type": "markdown",
   "metadata": {},
   "source": [
    "Podemos ver la tensión del generador que es 120 voltios de tensión de pico."
   ]
  },
  {
   "cell_type": "code",
   "execution_count": 165,
   "metadata": {},
   "outputs": [
    {
     "data": {
      "text/plain": [
       "[<matplotlib.lines.Line2D at 0x1d40c43faf0>]"
      ]
     },
     "execution_count": 165,
     "metadata": {},
     "output_type": "execute_result"
    },
    {
     "data": {
      "image/png": "[encoded data removed]",
      "text/plain": [
       "<Figure size 432x288 with 1 Axes>"
      ]
     },
     "metadata": {
      "needs_background": "light"
     },
     "output_type": "display_data"
    }
   ],
   "source": [
    "import ltspice\n",
    "plt.title(\"Intensidad que recorre la resistencia\")\n",
    "l = ltspice.Ltspice(\"corriente alterna.raw\")\n",
    "l.parse()\n",
    "plt.xlim(0, 0.10)\n",
    "plt.ylabel(\"amperios\")\n",
    "time = l.get_time()\n",
    "I1 = l.get_data('I(R1)')\n",
    "plt.xlabel(\"t/s\")\n",
    "plt.grid()\n",
    "plt.plot(time, I1)"
   ]
  },
  {
   "cell_type": "markdown",
   "metadata": {},
   "source": [
    "Podemos ver la intensidad que pasa por el circuito, que tambien la podemos calcular:\n",
    "\n",
    "$$\n",
    "I=\\frac{V}{R}=\\frac{120V}{1000}=0.012 A\n",
    "$$\n",
    "\n"
   ]
  },
  {
   "cell_type": "code",
   "execution_count": 166,
   "metadata": {},
   "outputs": [
    {
     "name": "stdout",
     "output_type": "stream",
     "text": [
      "Overwriting circuito_alterna.ckt\n"
     ]
    }
   ],
   "source": [
    "%%writefile \"circuito_alterna.ckt\"\n",
    "* Carga condensador\n",
    "v0 0 1 type=sin 0 120 60 0 0\n",
    "r1 1 0 10k\n",
    ".tran tstep=0.1 tstart=0 tstop=1\n",
    ".end"
   ]
  },
  {
   "cell_type": "code",
   "execution_count": 167,
   "metadata": {},
   "outputs": [
    {
     "name": "stdout",
     "output_type": "stream",
     "text": [
      "Starting transient analysis: \n",
      "Selected method: TRAP\n",
      "Solving...  done.\n",
      "Average time step: 0.00049975\n"
     ]
    }
   ],
   "source": [
    "circuito_y_análisis = ahkab.netlist_parser.parse_circuit(\"circuito_alterna.ckt\")\n",
    "circuito = circuito_y_análisis[0]       \n",
    "análisis_en_netlist = circuito_y_análisis[1]\n",
    "lista_de_análisis = ahkab.netlist_parser.parse_analysis(circuito, análisis_en_netlist)\n",
    "lista_de_análisis[0]['outfile'] = \"simulación.tsv\"\n",
    "resultados = ahkab.run(circuito, lista_de_análisis)\n"
   ]
  },
  {
   "cell_type": "code",
   "execution_count": 168,
   "metadata": {},
   "outputs": [
    {
     "data": {
      "text/plain": [
       "[<matplotlib.lines.Line2D at 0x1d40c412130>]"
      ]
     },
     "execution_count": 168,
     "metadata": {},
     "output_type": "execute_result"
    },
    {
     "data": {
      "image/png": "[encoded data removed]",
      "text/plain": [
       "<Figure size 432x288 with 1 Axes>"
      ]
     },
     "metadata": {
      "needs_background": "light"
     },
     "output_type": "display_data"
    }
   ],
   "source": [
    "figura = plt.figure()\n",
    "plt.title(\"Tensión generador\")\n",
    "plt.xlim(0, 0.10)\n",
    "plt.ylabel(\"Voltaje(voltios)\")\n",
    "plt.xlabel(\"t/s\")\n",
    "plt.grid()\n",
    "plt.plot(resultados['tran']['T'], resultados['tran']['V1'],label=\"Intensidad en C1\")"
   ]
  },
  {
   "cell_type": "markdown",
   "metadata": {},
   "source": [
    "Señal del generador de tensión,podemos ver que nos ofrece 120 v de pico."
   ]
  },
  {
   "cell_type": "code",
   "execution_count": 169,
   "metadata": {},
   "outputs": [
    {
     "data": {
      "text/plain": [
       "[<matplotlib.lines.Line2D at 0x1d40dcbe790>]"
      ]
     },
     "execution_count": 169,
     "metadata": {},
     "output_type": "execute_result"
    },
    {
     "data": {
      "image/png": "[encoded data removed]",
      "text/plain": [
       "<Figure size 432x288 with 1 Axes>"
      ]
     },
     "metadata": {
      "needs_background": "light"
     },
     "output_type": "display_data"
    }
   ],
   "source": [
    "figura = plt.figure()\n",
    "plt.title(\"Intensidad que recorre la resistencia\")\n",
    "plt.xlim(0, 0.10)\n",
    "plt.ylabel(\"amperios\")\n",
    "plt.xlabel(\"t/s\")\n",
    "plt.grid()\n",
    "plt.plot(resultados['tran']['T'], resultados['tran']['I(V0)'],label=\"Intensidad por la resistencia\")"
   ]
  },
  {
   "cell_type": "markdown",
   "metadata": {},
   "source": [
    "Corriente que circula por el circuito,como hemos calculado antes nos da 0.012 A. Tambien podemos ver que tanto la señal del generador como la señal de corriente estan en fase,podemos llegar la conclusión que la resistencia no afecta a la fase de la señal."
   ]
  }
 ],
 "metadata": {
  "kernelspec": {
   "display_name": "Python 3",
   "language": "python",
   "name": "python3"
  },
  "language_info": {
   "codemirror_mode": {
    "name": "ipython",
    "version": 3
   },
   "file_extension": ".py",
   "mimetype": "text/x-python",
   "name": "python",
   "nbconvert_exporter": "python",
   "pygments_lexer": "ipython3",
   "version": "3.8.5"
  }
 },
 "nbformat": 4,
 "nbformat_minor": 4
}
